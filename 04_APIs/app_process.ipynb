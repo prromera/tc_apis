{
 "cells": [
  {
   "cell_type": "code",
   "execution_count": null,
   "metadata": {},
   "outputs": [],
   "source": [
    "'''\n",
    " OBJETIVO:\n",
    "\n",
    "CreaR una aplicación web que puede recibir datos a través de internet, usar esos datos para hacer una predicción utilizando un modelo de aprendizaje automático,\n",
    "y luego enviar esa predicción de vuelta al usuario. \n",
    "\n",
    "Es decir, crear una API que permite a terceros  (programas o personas) interactuar con un modelo de machine learning previamente entrenado\n",
    "\n",
    "'''"
   ]
  },
  {
   "cell_type": "code",
   "execution_count": null,
   "metadata": {},
   "outputs": [],
   "source": [
    "'''\n",
    "POSIBLE APPROACH:\n",
    "\n",
    "1 - Seleccionar un modelo ya entrenado de una libería\n",
    "2 - Preparar la API para hacer las llamadas con flask\n",
    "3 - Preparar un entorno donde un cliente pueda hacer una solicitud get --> se recibe la info --> el modelo hace un predict --> se envía el predict al user\n",
    "4 - Este entorno puede ser pythoneverywhere\n",
    "'''"
   ]
  },
  {
   "cell_type": "code",
   "execution_count": null,
   "metadata": {},
   "outputs": [],
   "source": [
    "'''\n",
    "LISTA DE PRINCIPALES MODELOS ENTRENADOS QUE SE PUEDEN INVOCAR CON TRANSFORMERS:\n",
    "\n",
    "\n",
    "text-classification: Para clasificación de texto.\n",
    "sentiment-analysis: Para análisis de sentimientos.\n",
    "ner: Para reconocimiento de entidades nombradas (NER).\n",
    "translation_xx_to_yy: Para traducción de texto de un idioma a otro (por ejemplo, translation_en_to_fr para traducción del inglés al francés).\n",
    "summarization: Para resumen de texto.\n",
    "question-answering: Para responder preguntas basadas en contexto.\n",
    "text-generation: Para generación de texto.\n",
    "zero-shot-classification: Para clasificación de texto con cero disparos, es decir, sin necesidad de etiquetas de entrenamiento específicas.\n",
    "fill-mask: Para llenar espacios en blanco en el texto.\n",
    "feature-extraction: Para extraer características de un texto utilizando un modelo pre-entrenado.\n",
    "'''"
   ]
  }
 ],
 "metadata": {
  "kernelspec": {
   "display_name": "Python 3",
   "language": "python",
   "name": "python3"
  },
  "language_info": {
   "codemirror_mode": {
    "name": "ipython",
    "version": 3
   },
   "file_extension": ".py",
   "mimetype": "text/x-python",
   "name": "python",
   "nbconvert_exporter": "python",
   "pygments_lexer": "ipython3",
   "version": "3.11.5"
  }
 },
 "nbformat": 4,
 "nbformat_minor": 2
}
